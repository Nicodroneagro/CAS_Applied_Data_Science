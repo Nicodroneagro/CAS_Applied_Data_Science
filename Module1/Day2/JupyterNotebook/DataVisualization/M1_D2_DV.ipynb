{
  "cells": [
    {
      "cell_type": "markdown",
      "metadata": {
        "id": "e1dH35rqCxCS"
      },
      "source": [
        "Notebook 1, Module 1, Data and Data Management, CAS Applied Data Science, 2024-08-22, A. Mühlemann, University of Bern. (based on the template by S. Haug)\n"
      ]
    },
    {
      "cell_type": "markdown",
      "metadata": {
        "id": "VvFs2BLQCxCW"
      },
      "source": [
        "# 1. Visualisation of Data - Examples\n",
        "\n",
        "**Learning outcomes:**\n",
        "\n",
        "Participants will be able to make good data science plots, with praxis on\n",
        "- plot line charts from series and dataframes\n",
        "- plot histograms\n",
        "  - understand the effect of binning\n",
        "- plot scatter plots\n",
        "- plot box plots\n",
        "- plot error bars\n",
        "- formatting of plots\n",
        "- geoplotting\n",
        "\n",
        "**Introduction Slides**\n",
        "- https://drive.google.com/file/d/12hehfcdVOR0lpemy5Y-84EspCiOjr8e9/view?usp=sharing\n",
        "\n",
        "**Further sources**\n",
        "- Python: https://pandas.pydata.org/pandas-docs/stable/visualization.html\n",
        "- https://jakevdp.github.io/PythonDataScienceHandbook/04.00-introduction-to-matplotlib.html\n",
        "- Get inspired here : https://matplotlib.org/gallery/index.html\n",
        "\n",
        "Here you have examples on plotting possibilities with pandas. They make data science plotting very easy and fast. However, you may have special needs that are not supported. Then you can use the underlaying plotting module **matplotlib**.\n",
        "\n",
        "Plotting is an art and you can spend enourmous amounts of time doing plotting. There are many types of plots. You may invent your own type. We only show some examples and point out some important things. If you need to go further, you have to work indepentently.\n",
        "\n",
        "Some vocabulary and plots are only understandable with corresponding statistics background. This is part of module 2."
      ]
    },
    {
      "cell_type": "markdown",
      "metadata": {
        "id": "QVMP4mDgCxCY"
      },
      "source": [
        "## 0. Load the modules"
      ]
    },
    {
      "cell_type": "code",
      "execution_count": null,
      "metadata": {
        "id": "K1YoSszUCxCZ"
      },
      "outputs": [],
      "source": [
        "import numpy as np\n",
        "import matplotlib.pyplot as plt\n",
        "import pandas as pd"
      ]
    },
    {
      "cell_type": "markdown",
      "metadata": {
        "id": "t5QbM20fCxCa"
      },
      "source": [
        "## 1. Line charts\n",
        "Since line charts are for time series we use a time series data set for this visualization. On ILIAS you can find a data set called *garbage.csv* containing the garbage of in kg/inhabitant in Liestal, Basel, from 2017-2024 divided into different types of garbage. We first need to upload this data set to python and make a dataframe out of it."
      ]
    },
    {
      "cell_type": "code",
      "execution_count": null,
      "metadata": {
        "colab": {
          "base_uri": "https://localhost:8080/",
          "height": 74
        },
        "id": "p0MguthjCxCa",
        "outputId": "1b46d7c5-9112-441d-c240-c8aea72a3d00"
      },
      "outputs": [
        {
          "data": {
            "text/html": [
              "\n",
              "     <input type=\"file\" id=\"files-53088b15-20c0-4fe3-8d8b-947611987c2e\" name=\"files[]\" multiple disabled\n",
              "        style=\"border:none\" />\n",
              "     <output id=\"result-53088b15-20c0-4fe3-8d8b-947611987c2e\">\n",
              "      Upload widget is only available when the cell has been executed in the\n",
              "      current browser session. Please rerun this cell to enable.\n",
              "      </output>\n",
              "      <script>// Copyright 2017 Google LLC\n",
              "//\n",
              "// Licensed under the Apache License, Version 2.0 (the \"License\");\n",
              "// you may not use this file except in compliance with the License.\n",
              "// You may obtain a copy of the License at\n",
              "//\n",
              "//      http://www.apache.org/licenses/LICENSE-2.0\n",
              "//\n",
              "// Unless required by applicable law or agreed to in writing, software\n",
              "// distributed under the License is distributed on an \"AS IS\" BASIS,\n",
              "// WITHOUT WARRANTIES OR CONDITIONS OF ANY KIND, either express or implied.\n",
              "// See the License for the specific language governing permissions and\n",
              "// limitations under the License.\n",
              "\n",
              "/**\n",
              " * @fileoverview Helpers for google.colab Python module.\n",
              " */\n",
              "(function(scope) {\n",
              "function span(text, styleAttributes = {}) {\n",
              "  const element = document.createElement('span');\n",
              "  element.textContent = text;\n",
              "  for (const key of Object.keys(styleAttributes)) {\n",
              "    element.style[key] = styleAttributes[key];\n",
              "  }\n",
              "  return element;\n",
              "}\n",
              "\n",
              "// Max number of bytes which will be uploaded at a time.\n",
              "const MAX_PAYLOAD_SIZE = 100 * 1024;\n",
              "\n",
              "function _uploadFiles(inputId, outputId) {\n",
              "  const steps = uploadFilesStep(inputId, outputId);\n",
              "  const outputElement = document.getElementById(outputId);\n",
              "  // Cache steps on the outputElement to make it available for the next call\n",
              "  // to uploadFilesContinue from Python.\n",
              "  outputElement.steps = steps;\n",
              "\n",
              "  return _uploadFilesContinue(outputId);\n",
              "}\n",
              "\n",
              "// This is roughly an async generator (not supported in the browser yet),\n",
              "// where there are multiple asynchronous steps and the Python side is going\n",
              "// to poll for completion of each step.\n",
              "// This uses a Promise to block the python side on completion of each step,\n",
              "// then passes the result of the previous step as the input to the next step.\n",
              "function _uploadFilesContinue(outputId) {\n",
              "  const outputElement = document.getElementById(outputId);\n",
              "  const steps = outputElement.steps;\n",
              "\n",
              "  const next = steps.next(outputElement.lastPromiseValue);\n",
              "  return Promise.resolve(next.value.promise).then((value) => {\n",
              "    // Cache the last promise value to make it available to the next\n",
              "    // step of the generator.\n",
              "    outputElement.lastPromiseValue = value;\n",
              "    return next.value.response;\n",
              "  });\n",
              "}\n",
              "\n",
              "/**\n",
              " * Generator function which is called between each async step of the upload\n",
              " * process.\n",
              " * @param {string} inputId Element ID of the input file picker element.\n",
              " * @param {string} outputId Element ID of the output display.\n",
              " * @return {!Iterable<!Object>} Iterable of next steps.\n",
              " */\n",
              "function* uploadFilesStep(inputId, outputId) {\n",
              "  const inputElement = document.getElementById(inputId);\n",
              "  inputElement.disabled = false;\n",
              "\n",
              "  const outputElement = document.getElementById(outputId);\n",
              "  outputElement.innerHTML = '';\n",
              "\n",
              "  const pickedPromise = new Promise((resolve) => {\n",
              "    inputElement.addEventListener('change', (e) => {\n",
              "      resolve(e.target.files);\n",
              "    });\n",
              "  });\n",
              "\n",
              "  const cancel = document.createElement('button');\n",
              "  inputElement.parentElement.appendChild(cancel);\n",
              "  cancel.textContent = 'Cancel upload';\n",
              "  const cancelPromise = new Promise((resolve) => {\n",
              "    cancel.onclick = () => {\n",
              "      resolve(null);\n",
              "    };\n",
              "  });\n",
              "\n",
              "  // Wait for the user to pick the files.\n",
              "  const files = yield {\n",
              "    promise: Promise.race([pickedPromise, cancelPromise]),\n",
              "    response: {\n",
              "      action: 'starting',\n",
              "    }\n",
              "  };\n",
              "\n",
              "  cancel.remove();\n",
              "\n",
              "  // Disable the input element since further picks are not allowed.\n",
              "  inputElement.disabled = true;\n",
              "\n",
              "  if (!files) {\n",
              "    return {\n",
              "      response: {\n",
              "        action: 'complete',\n",
              "      }\n",
              "    };\n",
              "  }\n",
              "\n",
              "  for (const file of files) {\n",
              "    const li = document.createElement('li');\n",
              "    li.append(span(file.name, {fontWeight: 'bold'}));\n",
              "    li.append(span(\n",
              "        `(${file.type || 'n/a'}) - ${file.size} bytes, ` +\n",
              "        `last modified: ${\n",
              "            file.lastModifiedDate ? file.lastModifiedDate.toLocaleDateString() :\n",
              "                                    'n/a'} - `));\n",
              "    const percent = span('0% done');\n",
              "    li.appendChild(percent);\n",
              "\n",
              "    outputElement.appendChild(li);\n",
              "\n",
              "    const fileDataPromise = new Promise((resolve) => {\n",
              "      const reader = new FileReader();\n",
              "      reader.onload = (e) => {\n",
              "        resolve(e.target.result);\n",
              "      };\n",
              "      reader.readAsArrayBuffer(file);\n",
              "    });\n",
              "    // Wait for the data to be ready.\n",
              "    let fileData = yield {\n",
              "      promise: fileDataPromise,\n",
              "      response: {\n",
              "        action: 'continue',\n",
              "      }\n",
              "    };\n",
              "\n",
              "    // Use a chunked sending to avoid message size limits. See b/62115660.\n",
              "    let position = 0;\n",
              "    do {\n",
              "      const length = Math.min(fileData.byteLength - position, MAX_PAYLOAD_SIZE);\n",
              "      const chunk = new Uint8Array(fileData, position, length);\n",
              "      position += length;\n",
              "\n",
              "      const base64 = btoa(String.fromCharCode.apply(null, chunk));\n",
              "      yield {\n",
              "        response: {\n",
              "          action: 'append',\n",
              "          file: file.name,\n",
              "          data: base64,\n",
              "        },\n",
              "      };\n",
              "\n",
              "      let percentDone = fileData.byteLength === 0 ?\n",
              "          100 :\n",
              "          Math.round((position / fileData.byteLength) * 100);\n",
              "      percent.textContent = `${percentDone}% done`;\n",
              "\n",
              "    } while (position < fileData.byteLength);\n",
              "  }\n",
              "\n",
              "  // All done.\n",
              "  yield {\n",
              "    response: {\n",
              "      action: 'complete',\n",
              "    }\n",
              "  };\n",
              "}\n",
              "\n",
              "scope.google = scope.google || {};\n",
              "scope.google.colab = scope.google.colab || {};\n",
              "scope.google.colab._files = {\n",
              "  _uploadFiles,\n",
              "  _uploadFilesContinue,\n",
              "};\n",
              "})(self);\n",
              "</script> "
            ],
            "text/plain": [
              "<IPython.core.display.HTML object>"
            ]
          },
          "metadata": {},
          "output_type": "display_data"
        },
        {
          "name": "stdout",
          "output_type": "stream",
          "text": [
            "Saving garbage.csv to garbage.csv\n"
          ]
        }
      ],
      "source": [
        "from google.colab import files\n",
        "uploaded = files.upload()"
      ]
    },
    {
      "cell_type": "code",
      "execution_count": null,
      "metadata": {
        "colab": {
          "base_uri": "https://localhost:8080/",
          "height": 1000
        },
        "id": "nl_bbqpJmN-F",
        "outputId": "f768f459-fe2e-4ed6-9d06-876de804e056"
      },
      "outputs": [
        {
          "data": {
            "application/vnd.google.colaboratory.intrinsic+json": {
              "summary": "{\n  \"name\": \"garbage\",\n  \"rows\": 60,\n  \"fields\": [\n    {\n      \"column\": \"Jahr\",\n      \"properties\": {\n        \"dtype\": \"number\",\n        \"std\": 2,\n        \"min\": 2017,\n        \"max\": 2023,\n        \"num_unique_values\": 7,\n        \"samples\": [\n          2023,\n          2022,\n          2018\n        ],\n        \"semantic_type\": \"\",\n        \"description\": \"\"\n      }\n    },\n    {\n      \"column\": \"Gemeinde\",\n      \"properties\": {\n        \"dtype\": \"category\",\n        \"num_unique_values\": 1,\n        \"samples\": [\n          \"Liestal\"\n        ],\n        \"semantic_type\": \"\",\n        \"description\": \"\"\n      }\n    },\n    {\n      \"column\": \"Kategorie\",\n      \"properties\": {\n        \"dtype\": \"category\",\n        \"num_unique_values\": 8,\n        \"samples\": [\n          \"Gruengut\"\n        ],\n        \"semantic_type\": \"\",\n        \"description\": \"\"\n      }\n    },\n    {\n      \"column\": \"Einheit\",\n      \"properties\": {\n        \"dtype\": \"category\",\n        \"num_unique_values\": 2,\n        \"samples\": [\n          \"Tonnen\"\n        ],\n        \"semantic_type\": \"\",\n        \"description\": \"\"\n      }\n    },\n    {\n      \"column\": \"Wert\",\n      \"properties\": {\n        \"dtype\": \"number\",\n        \"std\": 365.0362821761819,\n        \"min\": 0.0,\n        \"max\": 2692.5,\n        \"num_unique_values\": 46,\n        \"samples\": [\n          18.82\n        ],\n        \"semantic_type\": \"\",\n        \"description\": \"\"\n      }\n    }\n  ]\n}",
              "type": "dataframe",
              "variable_name": "garbage"
            },
            "text/html": [
              "\n",
              "  <div id=\"df-9d690236-0906-443a-bfdc-3a9a5461997b\" class=\"colab-df-container\">\n",
              "    <div>\n",
              "<style scoped>\n",
              "    .dataframe tbody tr th:only-of-type {\n",
              "        vertical-align: middle;\n",
              "    }\n",
              "\n",
              "    .dataframe tbody tr th {\n",
              "        vertical-align: top;\n",
              "    }\n",
              "\n",
              "    .dataframe thead th {\n",
              "        text-align: right;\n",
              "    }\n",
              "</style>\n",
              "<table border=\"1\" class=\"dataframe\">\n",
              "  <thead>\n",
              "    <tr style=\"text-align: right;\">\n",
              "      <th></th>\n",
              "      <th>Jahr</th>\n",
              "      <th>Gemeinde</th>\n",
              "      <th>Kategorie</th>\n",
              "      <th>Einheit</th>\n",
              "      <th>Wert</th>\n",
              "    </tr>\n",
              "  </thead>\n",
              "  <tbody>\n",
              "    <tr>\n",
              "      <th>0</th>\n",
              "      <td>2023</td>\n",
              "      <td>Liestal</td>\n",
              "      <td>Glas</td>\n",
              "      <td>kg pro Einw.</td>\n",
              "      <td>18.600000</td>\n",
              "    </tr>\n",
              "    <tr>\n",
              "      <th>1</th>\n",
              "      <td>2023</td>\n",
              "      <td>Liestal</td>\n",
              "      <td>Gruengut</td>\n",
              "      <td>kg pro Einw.</td>\n",
              "      <td>59.300000</td>\n",
              "    </tr>\n",
              "    <tr>\n",
              "      <th>2</th>\n",
              "      <td>2023</td>\n",
              "      <td>Liestal</td>\n",
              "      <td>Hauskehricht + Sperrgut</td>\n",
              "      <td>kg pro Einw.</td>\n",
              "      <td>170.200000</td>\n",
              "    </tr>\n",
              "    <tr>\n",
              "      <th>3</th>\n",
              "      <td>2023</td>\n",
              "      <td>Liestal</td>\n",
              "      <td>Kunststoffe</td>\n",
              "      <td>kg pro Einw.</td>\n",
              "      <td>0.000000</td>\n",
              "    </tr>\n",
              "    <tr>\n",
              "      <th>4</th>\n",
              "      <td>2023</td>\n",
              "      <td>Liestal</td>\n",
              "      <td>Oele</td>\n",
              "      <td>kg pro Einw.</td>\n",
              "      <td>0.100000</td>\n",
              "    </tr>\n",
              "    <tr>\n",
              "      <th>5</th>\n",
              "      <td>2023</td>\n",
              "      <td>Liestal</td>\n",
              "      <td>Papier + Karton</td>\n",
              "      <td>kg pro Einw.</td>\n",
              "      <td>39.500000</td>\n",
              "    </tr>\n",
              "    <tr>\n",
              "      <th>6</th>\n",
              "      <td>2023</td>\n",
              "      <td>Liestal</td>\n",
              "      <td>Uebrige Metalle</td>\n",
              "      <td>kg pro Einw.</td>\n",
              "      <td>0.300000</td>\n",
              "    </tr>\n",
              "    <tr>\n",
              "      <th>7</th>\n",
              "      <td>2023</td>\n",
              "      <td>Liestal</td>\n",
              "      <td>Weissblech + Alu</td>\n",
              "      <td>kg pro Einw.</td>\n",
              "      <td>1.900000</td>\n",
              "    </tr>\n",
              "    <tr>\n",
              "      <th>8</th>\n",
              "      <td>2022</td>\n",
              "      <td>Liestal</td>\n",
              "      <td>Glas</td>\n",
              "      <td>kg pro Einw.</td>\n",
              "      <td>20.100000</td>\n",
              "    </tr>\n",
              "    <tr>\n",
              "      <th>9</th>\n",
              "      <td>2022</td>\n",
              "      <td>Liestal</td>\n",
              "      <td>Gruengut</td>\n",
              "      <td>kg pro Einw.</td>\n",
              "      <td>62.300000</td>\n",
              "    </tr>\n",
              "    <tr>\n",
              "      <th>10</th>\n",
              "      <td>2022</td>\n",
              "      <td>Liestal</td>\n",
              "      <td>Hauskehricht + Sperrgut</td>\n",
              "      <td>kg pro Einw.</td>\n",
              "      <td>172.400000</td>\n",
              "    </tr>\n",
              "    <tr>\n",
              "      <th>11</th>\n",
              "      <td>2022</td>\n",
              "      <td>Liestal</td>\n",
              "      <td>Kunststoffe</td>\n",
              "      <td>kg pro Einw.</td>\n",
              "      <td>0.000000</td>\n",
              "    </tr>\n",
              "    <tr>\n",
              "      <th>12</th>\n",
              "      <td>2022</td>\n",
              "      <td>Liestal</td>\n",
              "      <td>Oele</td>\n",
              "      <td>kg pro Einw.</td>\n",
              "      <td>0.000000</td>\n",
              "    </tr>\n",
              "    <tr>\n",
              "      <th>13</th>\n",
              "      <td>2022</td>\n",
              "      <td>Liestal</td>\n",
              "      <td>Papier + Karton</td>\n",
              "      <td>kg pro Einw.</td>\n",
              "      <td>42.000000</td>\n",
              "    </tr>\n",
              "    <tr>\n",
              "      <th>14</th>\n",
              "      <td>2022</td>\n",
              "      <td>Liestal</td>\n",
              "      <td>Uebrige Metalle</td>\n",
              "      <td>kg pro Einw.</td>\n",
              "      <td>0.400000</td>\n",
              "    </tr>\n",
              "    <tr>\n",
              "      <th>15</th>\n",
              "      <td>2022</td>\n",
              "      <td>Liestal</td>\n",
              "      <td>Weissblech + Alu</td>\n",
              "      <td>kg pro Einw.</td>\n",
              "      <td>1.900000</td>\n",
              "    </tr>\n",
              "    <tr>\n",
              "      <th>16</th>\n",
              "      <td>2021</td>\n",
              "      <td>Liestal</td>\n",
              "      <td>Glas</td>\n",
              "      <td>kg pro Einw.</td>\n",
              "      <td>24.600000</td>\n",
              "    </tr>\n",
              "    <tr>\n",
              "      <th>17</th>\n",
              "      <td>2021</td>\n",
              "      <td>Liestal</td>\n",
              "      <td>Gruengut</td>\n",
              "      <td>kg pro Einw.</td>\n",
              "      <td>78.700000</td>\n",
              "    </tr>\n",
              "    <tr>\n",
              "      <th>18</th>\n",
              "      <td>2021</td>\n",
              "      <td>Liestal</td>\n",
              "      <td>Hauskehricht + Sperrgut</td>\n",
              "      <td>kg pro Einw.</td>\n",
              "      <td>181.600000</td>\n",
              "    </tr>\n",
              "    <tr>\n",
              "      <th>19</th>\n",
              "      <td>2021</td>\n",
              "      <td>Liestal</td>\n",
              "      <td>Kunststoffe</td>\n",
              "      <td>kg pro Einw.</td>\n",
              "      <td>0.000000</td>\n",
              "    </tr>\n",
              "    <tr>\n",
              "      <th>20</th>\n",
              "      <td>2021</td>\n",
              "      <td>Liestal</td>\n",
              "      <td>Oele</td>\n",
              "      <td>kg pro Einw.</td>\n",
              "      <td>0.200000</td>\n",
              "    </tr>\n",
              "    <tr>\n",
              "      <th>21</th>\n",
              "      <td>2021</td>\n",
              "      <td>Liestal</td>\n",
              "      <td>Papier + Karton</td>\n",
              "      <td>kg pro Einw.</td>\n",
              "      <td>46.900000</td>\n",
              "    </tr>\n",
              "    <tr>\n",
              "      <th>22</th>\n",
              "      <td>2021</td>\n",
              "      <td>Liestal</td>\n",
              "      <td>Uebrige Metalle</td>\n",
              "      <td>kg pro Einw.</td>\n",
              "      <td>0.000000</td>\n",
              "    </tr>\n",
              "    <tr>\n",
              "      <th>23</th>\n",
              "      <td>2021</td>\n",
              "      <td>Liestal</td>\n",
              "      <td>Weissblech + Alu</td>\n",
              "      <td>kg pro Einw.</td>\n",
              "      <td>2.000000</td>\n",
              "    </tr>\n",
              "    <tr>\n",
              "      <th>24</th>\n",
              "      <td>2020</td>\n",
              "      <td>Liestal</td>\n",
              "      <td>Glas</td>\n",
              "      <td>kg pro Einw.</td>\n",
              "      <td>29.885219</td>\n",
              "    </tr>\n",
              "    <tr>\n",
              "      <th>25</th>\n",
              "      <td>2020</td>\n",
              "      <td>Liestal</td>\n",
              "      <td>Gruengut</td>\n",
              "      <td>kg pro Einw.</td>\n",
              "      <td>76.078942</td>\n",
              "    </tr>\n",
              "    <tr>\n",
              "      <th>26</th>\n",
              "      <td>2020</td>\n",
              "      <td>Liestal</td>\n",
              "      <td>Hauskehricht + Sperrgut</td>\n",
              "      <td>kg pro Einw.</td>\n",
              "      <td>182.826698</td>\n",
              "    </tr>\n",
              "    <tr>\n",
              "      <th>27</th>\n",
              "      <td>2020</td>\n",
              "      <td>Liestal</td>\n",
              "      <td>Kunststoffe</td>\n",
              "      <td>kg pro Einw.</td>\n",
              "      <td>0.000000</td>\n",
              "    </tr>\n",
              "    <tr>\n",
              "      <th>28</th>\n",
              "      <td>2020</td>\n",
              "      <td>Liestal</td>\n",
              "      <td>Oele</td>\n",
              "      <td>kg pro Einw.</td>\n",
              "      <td>0.000000</td>\n",
              "    </tr>\n",
              "    <tr>\n",
              "      <th>29</th>\n",
              "      <td>2020</td>\n",
              "      <td>Liestal</td>\n",
              "      <td>Papier + Karton</td>\n",
              "      <td>kg pro Einw.</td>\n",
              "      <td>42.799973</td>\n",
              "    </tr>\n",
              "    <tr>\n",
              "      <th>30</th>\n",
              "      <td>2020</td>\n",
              "      <td>Liestal</td>\n",
              "      <td>Uebrige Metalle</td>\n",
              "      <td>kg pro Einw.</td>\n",
              "      <td>0.475570</td>\n",
              "    </tr>\n",
              "    <tr>\n",
              "      <th>31</th>\n",
              "      <td>2020</td>\n",
              "      <td>Liestal</td>\n",
              "      <td>Weissblech + Alu</td>\n",
              "      <td>kg pro Einw.</td>\n",
              "      <td>1.986569</td>\n",
              "    </tr>\n",
              "    <tr>\n",
              "      <th>32</th>\n",
              "      <td>2019</td>\n",
              "      <td>Liestal</td>\n",
              "      <td>Glas</td>\n",
              "      <td>kg pro Einw.</td>\n",
              "      <td>28.732751</td>\n",
              "    </tr>\n",
              "    <tr>\n",
              "      <th>33</th>\n",
              "      <td>2019</td>\n",
              "      <td>Liestal</td>\n",
              "      <td>Gruengut</td>\n",
              "      <td>kg pro Einw.</td>\n",
              "      <td>69.995146</td>\n",
              "    </tr>\n",
              "    <tr>\n",
              "      <th>34</th>\n",
              "      <td>2019</td>\n",
              "      <td>Liestal</td>\n",
              "      <td>Hauskehricht + Sperrgut</td>\n",
              "      <td>kg pro Einw.</td>\n",
              "      <td>183.456071</td>\n",
              "    </tr>\n",
              "    <tr>\n",
              "      <th>35</th>\n",
              "      <td>2019</td>\n",
              "      <td>Liestal</td>\n",
              "      <td>Kunststoffe</td>\n",
              "      <td>kg pro Einw.</td>\n",
              "      <td>0.000000</td>\n",
              "    </tr>\n",
              "    <tr>\n",
              "      <th>36</th>\n",
              "      <td>2019</td>\n",
              "      <td>Liestal</td>\n",
              "      <td>Oele</td>\n",
              "      <td>kg pro Einw.</td>\n",
              "      <td>0.034117</td>\n",
              "    </tr>\n",
              "    <tr>\n",
              "      <th>37</th>\n",
              "      <td>2019</td>\n",
              "      <td>Liestal</td>\n",
              "      <td>Papier + Karton</td>\n",
              "      <td>kg pro Einw.</td>\n",
              "      <td>44.338811</td>\n",
              "    </tr>\n",
              "    <tr>\n",
              "      <th>38</th>\n",
              "      <td>2019</td>\n",
              "      <td>Liestal</td>\n",
              "      <td>Uebrige Metalle</td>\n",
              "      <td>kg pro Einw.</td>\n",
              "      <td>0.000000</td>\n",
              "    </tr>\n",
              "    <tr>\n",
              "      <th>39</th>\n",
              "      <td>2019</td>\n",
              "      <td>Liestal</td>\n",
              "      <td>Weissblech + Alu</td>\n",
              "      <td>kg pro Einw.</td>\n",
              "      <td>1.794605</td>\n",
              "    </tr>\n",
              "    <tr>\n",
              "      <th>40</th>\n",
              "      <td>2018</td>\n",
              "      <td>Liestal</td>\n",
              "      <td>Glas</td>\n",
              "      <td>kg pro Einw.</td>\n",
              "      <td>29.045658</td>\n",
              "    </tr>\n",
              "    <tr>\n",
              "      <th>41</th>\n",
              "      <td>2018</td>\n",
              "      <td>Liestal</td>\n",
              "      <td>Gruengut</td>\n",
              "      <td>kg pro Einw.</td>\n",
              "      <td>63.627199</td>\n",
              "    </tr>\n",
              "    <tr>\n",
              "      <th>42</th>\n",
              "      <td>2018</td>\n",
              "      <td>Liestal</td>\n",
              "      <td>Hauskehricht + Sperrgut</td>\n",
              "      <td>kg pro Einw.</td>\n",
              "      <td>187.324770</td>\n",
              "    </tr>\n",
              "    <tr>\n",
              "      <th>43</th>\n",
              "      <td>2018</td>\n",
              "      <td>Liestal</td>\n",
              "      <td>Kunststoffe</td>\n",
              "      <td>kg pro Einw.</td>\n",
              "      <td>0.000000</td>\n",
              "    </tr>\n",
              "    <tr>\n",
              "      <th>44</th>\n",
              "      <td>2018</td>\n",
              "      <td>Liestal</td>\n",
              "      <td>Oele</td>\n",
              "      <td>kg pro Einw.</td>\n",
              "      <td>0.023178</td>\n",
              "    </tr>\n",
              "    <tr>\n",
              "      <th>45</th>\n",
              "      <td>2018</td>\n",
              "      <td>Liestal</td>\n",
              "      <td>Papier + Karton</td>\n",
              "      <td>kg pro Einw.</td>\n",
              "      <td>49.901564</td>\n",
              "    </tr>\n",
              "    <tr>\n",
              "      <th>46</th>\n",
              "      <td>2018</td>\n",
              "      <td>Liestal</td>\n",
              "      <td>Uebrige Metalle</td>\n",
              "      <td>kg pro Einw.</td>\n",
              "      <td>0.000000</td>\n",
              "    </tr>\n",
              "    <tr>\n",
              "      <th>47</th>\n",
              "      <td>2018</td>\n",
              "      <td>Liestal</td>\n",
              "      <td>Weissblech + Alu</td>\n",
              "      <td>kg pro Einw.</td>\n",
              "      <td>1.947082</td>\n",
              "    </tr>\n",
              "    <tr>\n",
              "      <th>48</th>\n",
              "      <td>2017</td>\n",
              "      <td>Liestal</td>\n",
              "      <td>Glas</td>\n",
              "      <td>kg pro Einw.</td>\n",
              "      <td>28.670000</td>\n",
              "    </tr>\n",
              "    <tr>\n",
              "      <th>49</th>\n",
              "      <td>2017</td>\n",
              "      <td>Liestal</td>\n",
              "      <td>Gruengut</td>\n",
              "      <td>kg pro Einw.</td>\n",
              "      <td>65.583000</td>\n",
              "    </tr>\n",
              "    <tr>\n",
              "      <th>50</th>\n",
              "      <td>2017</td>\n",
              "      <td>Liestal</td>\n",
              "      <td>Hauskehricht + Sperrgut</td>\n",
              "      <td>kg pro Einw.</td>\n",
              "      <td>18.820000</td>\n",
              "    </tr>\n",
              "    <tr>\n",
              "      <th>51</th>\n",
              "      <td>2017</td>\n",
              "      <td>Liestal</td>\n",
              "      <td>Kunststoffe</td>\n",
              "      <td>kg pro Einw.</td>\n",
              "      <td>0.000000</td>\n",
              "    </tr>\n",
              "    <tr>\n",
              "      <th>52</th>\n",
              "      <td>2017</td>\n",
              "      <td>Liestal</td>\n",
              "      <td>Oele</td>\n",
              "      <td>kg pro Einw.</td>\n",
              "      <td>0.010000</td>\n",
              "    </tr>\n",
              "    <tr>\n",
              "      <th>53</th>\n",
              "      <td>2017</td>\n",
              "      <td>Liestal</td>\n",
              "      <td>Papier + Karton</td>\n",
              "      <td>kg pro Einw.</td>\n",
              "      <td>51.260000</td>\n",
              "    </tr>\n",
              "    <tr>\n",
              "      <th>54</th>\n",
              "      <td>2017</td>\n",
              "      <td>Liestal</td>\n",
              "      <td>Uebrige Metalle</td>\n",
              "      <td>kg pro Einw.</td>\n",
              "      <td>0.000000</td>\n",
              "    </tr>\n",
              "    <tr>\n",
              "      <th>55</th>\n",
              "      <td>2017</td>\n",
              "      <td>Liestal</td>\n",
              "      <td>Weissblech + Alu</td>\n",
              "      <td>kg pro Einw.</td>\n",
              "      <td>2.010000</td>\n",
              "    </tr>\n",
              "    <tr>\n",
              "      <th>56</th>\n",
              "      <td>2023</td>\n",
              "      <td>Liestal</td>\n",
              "      <td>Glas</td>\n",
              "      <td>Tonnen</td>\n",
              "      <td>293.800000</td>\n",
              "    </tr>\n",
              "    <tr>\n",
              "      <th>57</th>\n",
              "      <td>2023</td>\n",
              "      <td>Liestal</td>\n",
              "      <td>Gruengut</td>\n",
              "      <td>Tonnen</td>\n",
              "      <td>939.000000</td>\n",
              "    </tr>\n",
              "    <tr>\n",
              "      <th>58</th>\n",
              "      <td>2023</td>\n",
              "      <td>Liestal</td>\n",
              "      <td>Hauskehricht + Sperrgut</td>\n",
              "      <td>Tonnen</td>\n",
              "      <td>2692.500000</td>\n",
              "    </tr>\n",
              "    <tr>\n",
              "      <th>59</th>\n",
              "      <td>2023</td>\n",
              "      <td>Liestal</td>\n",
              "      <td>Kunststoffe</td>\n",
              "      <td>Tonnen</td>\n",
              "      <td>0.000000</td>\n",
              "    </tr>\n",
              "  </tbody>\n",
              "</table>\n",
              "</div>\n",
              "    <div class=\"colab-df-buttons\">\n",
              "\n",
              "  <div class=\"colab-df-container\">\n",
              "    <button class=\"colab-df-convert\" onclick=\"convertToInteractive('df-9d690236-0906-443a-bfdc-3a9a5461997b')\"\n",
              "            title=\"Convert this dataframe to an interactive table.\"\n",
              "            style=\"display:none;\">\n",
              "\n",
              "  <svg xmlns=\"http://www.w3.org/2000/svg\" height=\"24px\" viewBox=\"0 -960 960 960\">\n",
              "    <path d=\"M120-120v-720h720v720H120Zm60-500h600v-160H180v160Zm220 220h160v-160H400v160Zm0 220h160v-160H400v160ZM180-400h160v-160H180v160Zm440 0h160v-160H620v160ZM180-180h160v-160H180v160Zm440 0h160v-160H620v160Z\"/>\n",
              "  </svg>\n",
              "    </button>\n",
              "\n",
              "  <style>\n",
              "    .colab-df-container {\n",
              "      display:flex;\n",
              "      gap: 12px;\n",
              "    }\n",
              "\n",
              "    .colab-df-convert {\n",
              "      background-color: #E8F0FE;\n",
              "      border: none;\n",
              "      border-radius: 50%;\n",
              "      cursor: pointer;\n",
              "      display: none;\n",
              "      fill: #1967D2;\n",
              "      height: 32px;\n",
              "      padding: 0 0 0 0;\n",
              "      width: 32px;\n",
              "    }\n",
              "\n",
              "    .colab-df-convert:hover {\n",
              "      background-color: #E2EBFA;\n",
              "      box-shadow: 0px 1px 2px rgba(60, 64, 67, 0.3), 0px 1px 3px 1px rgba(60, 64, 67, 0.15);\n",
              "      fill: #174EA6;\n",
              "    }\n",
              "\n",
              "    .colab-df-buttons div {\n",
              "      margin-bottom: 4px;\n",
              "    }\n",
              "\n",
              "    [theme=dark] .colab-df-convert {\n",
              "      background-color: #3B4455;\n",
              "      fill: #D2E3FC;\n",
              "    }\n",
              "\n",
              "    [theme=dark] .colab-df-convert:hover {\n",
              "      background-color: #434B5C;\n",
              "      box-shadow: 0px 1px 3px 1px rgba(0, 0, 0, 0.15);\n",
              "      filter: drop-shadow(0px 1px 2px rgba(0, 0, 0, 0.3));\n",
              "      fill: #FFFFFF;\n",
              "    }\n",
              "  </style>\n",
              "\n",
              "    <script>\n",
              "      const buttonEl =\n",
              "        document.querySelector('#df-9d690236-0906-443a-bfdc-3a9a5461997b button.colab-df-convert');\n",
              "      buttonEl.style.display =\n",
              "        google.colab.kernel.accessAllowed ? 'block' : 'none';\n",
              "\n",
              "      async function convertToInteractive(key) {\n",
              "        const element = document.querySelector('#df-9d690236-0906-443a-bfdc-3a9a5461997b');\n",
              "        const dataTable =\n",
              "          await google.colab.kernel.invokeFunction('convertToInteractive',\n",
              "                                                    [key], {});\n",
              "        if (!dataTable) return;\n",
              "\n",
              "        const docLinkHtml = 'Like what you see? Visit the ' +\n",
              "          '<a target=\"_blank\" href=https://colab.research.google.com/notebooks/data_table.ipynb>data table notebook</a>'\n",
              "          + ' to learn more about interactive tables.';\n",
              "        element.innerHTML = '';\n",
              "        dataTable['output_type'] = 'display_data';\n",
              "        await google.colab.output.renderOutput(dataTable, element);\n",
              "        const docLink = document.createElement('div');\n",
              "        docLink.innerHTML = docLinkHtml;\n",
              "        element.appendChild(docLink);\n",
              "      }\n",
              "    </script>\n",
              "  </div>\n",
              "\n",
              "\n",
              "<div id=\"df-7b1c8ad7-f96e-4477-92ff-05e267e35540\">\n",
              "  <button class=\"colab-df-quickchart\" onclick=\"quickchart('df-7b1c8ad7-f96e-4477-92ff-05e267e35540')\"\n",
              "            title=\"Suggest charts\"\n",
              "            style=\"display:none;\">\n",
              "\n",
              "<svg xmlns=\"http://www.w3.org/2000/svg\" height=\"24px\"viewBox=\"0 0 24 24\"\n",
              "     width=\"24px\">\n",
              "    <g>\n",
              "        <path d=\"M19 3H5c-1.1 0-2 .9-2 2v14c0 1.1.9 2 2 2h14c1.1 0 2-.9 2-2V5c0-1.1-.9-2-2-2zM9 17H7v-7h2v7zm4 0h-2V7h2v10zm4 0h-2v-4h2v4z\"/>\n",
              "    </g>\n",
              "</svg>\n",
              "  </button>\n",
              "\n",
              "<style>\n",
              "  .colab-df-quickchart {\n",
              "      --bg-color: #E8F0FE;\n",
              "      --fill-color: #1967D2;\n",
              "      --hover-bg-color: #E2EBFA;\n",
              "      --hover-fill-color: #174EA6;\n",
              "      --disabled-fill-color: #AAA;\n",
              "      --disabled-bg-color: #DDD;\n",
              "  }\n",
              "\n",
              "  [theme=dark] .colab-df-quickchart {\n",
              "      --bg-color: #3B4455;\n",
              "      --fill-color: #D2E3FC;\n",
              "      --hover-bg-color: #434B5C;\n",
              "      --hover-fill-color: #FFFFFF;\n",
              "      --disabled-bg-color: #3B4455;\n",
              "      --disabled-fill-color: #666;\n",
              "  }\n",
              "\n",
              "  .colab-df-quickchart {\n",
              "    background-color: var(--bg-color);\n",
              "    border: none;\n",
              "    border-radius: 50%;\n",
              "    cursor: pointer;\n",
              "    display: none;\n",
              "    fill: var(--fill-color);\n",
              "    height: 32px;\n",
              "    padding: 0;\n",
              "    width: 32px;\n",
              "  }\n",
              "\n",
              "  .colab-df-quickchart:hover {\n",
              "    background-color: var(--hover-bg-color);\n",
              "    box-shadow: 0 1px 2px rgba(60, 64, 67, 0.3), 0 1px 3px 1px rgba(60, 64, 67, 0.15);\n",
              "    fill: var(--button-hover-fill-color);\n",
              "  }\n",
              "\n",
              "  .colab-df-quickchart-complete:disabled,\n",
              "  .colab-df-quickchart-complete:disabled:hover {\n",
              "    background-color: var(--disabled-bg-color);\n",
              "    fill: var(--disabled-fill-color);\n",
              "    box-shadow: none;\n",
              "  }\n",
              "\n",
              "  .colab-df-spinner {\n",
              "    border: 2px solid var(--fill-color);\n",
              "    border-color: transparent;\n",
              "    border-bottom-color: var(--fill-color);\n",
              "    animation:\n",
              "      spin 1s steps(1) infinite;\n",
              "  }\n",
              "\n",
              "  @keyframes spin {\n",
              "    0% {\n",
              "      border-color: transparent;\n",
              "      border-bottom-color: var(--fill-color);\n",
              "      border-left-color: var(--fill-color);\n",
              "    }\n",
              "    20% {\n",
              "      border-color: transparent;\n",
              "      border-left-color: var(--fill-color);\n",
              "      border-top-color: var(--fill-color);\n",
              "    }\n",
              "    30% {\n",
              "      border-color: transparent;\n",
              "      border-left-color: var(--fill-color);\n",
              "      border-top-color: var(--fill-color);\n",
              "      border-right-color: var(--fill-color);\n",
              "    }\n",
              "    40% {\n",
              "      border-color: transparent;\n",
              "      border-right-color: var(--fill-color);\n",
              "      border-top-color: var(--fill-color);\n",
              "    }\n",
              "    60% {\n",
              "      border-color: transparent;\n",
              "      border-right-color: var(--fill-color);\n",
              "    }\n",
              "    80% {\n",
              "      border-color: transparent;\n",
              "      border-right-color: var(--fill-color);\n",
              "      border-bottom-color: var(--fill-color);\n",
              "    }\n",
              "    90% {\n",
              "      border-color: transparent;\n",
              "      border-bottom-color: var(--fill-color);\n",
              "    }\n",
              "  }\n",
              "</style>\n",
              "\n",
              "  <script>\n",
              "    async function quickchart(key) {\n",
              "      const quickchartButtonEl =\n",
              "        document.querySelector('#' + key + ' button');\n",
              "      quickchartButtonEl.disabled = true;  // To prevent multiple clicks.\n",
              "      quickchartButtonEl.classList.add('colab-df-spinner');\n",
              "      try {\n",
              "        const charts = await google.colab.kernel.invokeFunction(\n",
              "            'suggestCharts', [key], {});\n",
              "      } catch (error) {\n",
              "        console.error('Error during call to suggestCharts:', error);\n",
              "      }\n",
              "      quickchartButtonEl.classList.remove('colab-df-spinner');\n",
              "      quickchartButtonEl.classList.add('colab-df-quickchart-complete');\n",
              "    }\n",
              "    (() => {\n",
              "      let quickchartButtonEl =\n",
              "        document.querySelector('#df-7b1c8ad7-f96e-4477-92ff-05e267e35540 button');\n",
              "      quickchartButtonEl.style.display =\n",
              "        google.colab.kernel.accessAllowed ? 'block' : 'none';\n",
              "    })();\n",
              "  </script>\n",
              "</div>\n",
              "\n",
              "  <div id=\"id_fee725a8-70a0-4154-bb27-ea28093588ac\">\n",
              "    <style>\n",
              "      .colab-df-generate {\n",
              "        background-color: #E8F0FE;\n",
              "        border: none;\n",
              "        border-radius: 50%;\n",
              "        cursor: pointer;\n",
              "        display: none;\n",
              "        fill: #1967D2;\n",
              "        height: 32px;\n",
              "        padding: 0 0 0 0;\n",
              "        width: 32px;\n",
              "      }\n",
              "\n",
              "      .colab-df-generate:hover {\n",
              "        background-color: #E2EBFA;\n",
              "        box-shadow: 0px 1px 2px rgba(60, 64, 67, 0.3), 0px 1px 3px 1px rgba(60, 64, 67, 0.15);\n",
              "        fill: #174EA6;\n",
              "      }\n",
              "\n",
              "      [theme=dark] .colab-df-generate {\n",
              "        background-color: #3B4455;\n",
              "        fill: #D2E3FC;\n",
              "      }\n",
              "\n",
              "      [theme=dark] .colab-df-generate:hover {\n",
              "        background-color: #434B5C;\n",
              "        box-shadow: 0px 1px 3px 1px rgba(0, 0, 0, 0.15);\n",
              "        filter: drop-shadow(0px 1px 2px rgba(0, 0, 0, 0.3));\n",
              "        fill: #FFFFFF;\n",
              "      }\n",
              "    </style>\n",
              "    <button class=\"colab-df-generate\" onclick=\"generateWithVariable('garbage')\"\n",
              "            title=\"Generate code using this dataframe.\"\n",
              "            style=\"display:none;\">\n",
              "\n",
              "  <svg xmlns=\"http://www.w3.org/2000/svg\" height=\"24px\"viewBox=\"0 0 24 24\"\n",
              "       width=\"24px\">\n",
              "    <path d=\"M7,19H8.4L18.45,9,17,7.55,7,17.6ZM5,21V16.75L18.45,3.32a2,2,0,0,1,2.83,0l1.4,1.43a1.91,1.91,0,0,1,.58,1.4,1.91,1.91,0,0,1-.58,1.4L9.25,21ZM18.45,9,17,7.55Zm-12,3A5.31,5.31,0,0,0,4.9,8.1,5.31,5.31,0,0,0,1,6.5,5.31,5.31,0,0,0,4.9,4.9,5.31,5.31,0,0,0,6.5,1,5.31,5.31,0,0,0,8.1,4.9,5.31,5.31,0,0,0,12,6.5,5.46,5.46,0,0,0,6.5,12Z\"/>\n",
              "  </svg>\n",
              "    </button>\n",
              "    <script>\n",
              "      (() => {\n",
              "      const buttonEl =\n",
              "        document.querySelector('#id_fee725a8-70a0-4154-bb27-ea28093588ac button.colab-df-generate');\n",
              "      buttonEl.style.display =\n",
              "        google.colab.kernel.accessAllowed ? 'block' : 'none';\n",
              "\n",
              "      buttonEl.onclick = () => {\n",
              "        google.colab.notebook.generateWithVariable('garbage');\n",
              "      }\n",
              "      })();\n",
              "    </script>\n",
              "  </div>\n",
              "\n",
              "    </div>\n",
              "  </div>\n"
            ],
            "text/plain": [
              "    Jahr Gemeinde                Kategorie       Einheit         Wert\n",
              "0   2023  Liestal                     Glas  kg pro Einw.    18.600000\n",
              "1   2023  Liestal                 Gruengut  kg pro Einw.    59.300000\n",
              "2   2023  Liestal  Hauskehricht + Sperrgut  kg pro Einw.   170.200000\n",
              "3   2023  Liestal              Kunststoffe  kg pro Einw.     0.000000\n",
              "4   2023  Liestal                     Oele  kg pro Einw.     0.100000\n",
              "5   2023  Liestal          Papier + Karton  kg pro Einw.    39.500000\n",
              "6   2023  Liestal          Uebrige Metalle  kg pro Einw.     0.300000\n",
              "7   2023  Liestal         Weissblech + Alu  kg pro Einw.     1.900000\n",
              "8   2022  Liestal                     Glas  kg pro Einw.    20.100000\n",
              "9   2022  Liestal                 Gruengut  kg pro Einw.    62.300000\n",
              "10  2022  Liestal  Hauskehricht + Sperrgut  kg pro Einw.   172.400000\n",
              "11  2022  Liestal              Kunststoffe  kg pro Einw.     0.000000\n",
              "12  2022  Liestal                     Oele  kg pro Einw.     0.000000\n",
              "13  2022  Liestal          Papier + Karton  kg pro Einw.    42.000000\n",
              "14  2022  Liestal          Uebrige Metalle  kg pro Einw.     0.400000\n",
              "15  2022  Liestal         Weissblech + Alu  kg pro Einw.     1.900000\n",
              "16  2021  Liestal                     Glas  kg pro Einw.    24.600000\n",
              "17  2021  Liestal                 Gruengut  kg pro Einw.    78.700000\n",
              "18  2021  Liestal  Hauskehricht + Sperrgut  kg pro Einw.   181.600000\n",
              "19  2021  Liestal              Kunststoffe  kg pro Einw.     0.000000\n",
              "20  2021  Liestal                     Oele  kg pro Einw.     0.200000\n",
              "21  2021  Liestal          Papier + Karton  kg pro Einw.    46.900000\n",
              "22  2021  Liestal          Uebrige Metalle  kg pro Einw.     0.000000\n",
              "23  2021  Liestal         Weissblech + Alu  kg pro Einw.     2.000000\n",
              "24  2020  Liestal                     Glas  kg pro Einw.    29.885219\n",
              "25  2020  Liestal                 Gruengut  kg pro Einw.    76.078942\n",
              "26  2020  Liestal  Hauskehricht + Sperrgut  kg pro Einw.   182.826698\n",
              "27  2020  Liestal              Kunststoffe  kg pro Einw.     0.000000\n",
              "28  2020  Liestal                     Oele  kg pro Einw.     0.000000\n",
              "29  2020  Liestal          Papier + Karton  kg pro Einw.    42.799973\n",
              "30  2020  Liestal          Uebrige Metalle  kg pro Einw.     0.475570\n",
              "31  2020  Liestal         Weissblech + Alu  kg pro Einw.     1.986569\n",
              "32  2019  Liestal                     Glas  kg pro Einw.    28.732751\n",
              "33  2019  Liestal                 Gruengut  kg pro Einw.    69.995146\n",
              "34  2019  Liestal  Hauskehricht + Sperrgut  kg pro Einw.   183.456071\n",
              "35  2019  Liestal              Kunststoffe  kg pro Einw.     0.000000\n",
              "36  2019  Liestal                     Oele  kg pro Einw.     0.034117\n",
              "37  2019  Liestal          Papier + Karton  kg pro Einw.    44.338811\n",
              "38  2019  Liestal          Uebrige Metalle  kg pro Einw.     0.000000\n",
              "39  2019  Liestal         Weissblech + Alu  kg pro Einw.     1.794605\n",
              "40  2018  Liestal                     Glas  kg pro Einw.    29.045658\n",
              "41  2018  Liestal                 Gruengut  kg pro Einw.    63.627199\n",
              "42  2018  Liestal  Hauskehricht + Sperrgut  kg pro Einw.   187.324770\n",
              "43  2018  Liestal              Kunststoffe  kg pro Einw.     0.000000\n",
              "44  2018  Liestal                     Oele  kg pro Einw.     0.023178\n",
              "45  2018  Liestal          Papier + Karton  kg pro Einw.    49.901564\n",
              "46  2018  Liestal          Uebrige Metalle  kg pro Einw.     0.000000\n",
              "47  2018  Liestal         Weissblech + Alu  kg pro Einw.     1.947082\n",
              "48  2017  Liestal                     Glas  kg pro Einw.    28.670000\n",
              "49  2017  Liestal                 Gruengut  kg pro Einw.    65.583000\n",
              "50  2017  Liestal  Hauskehricht + Sperrgut  kg pro Einw.    18.820000\n",
              "51  2017  Liestal              Kunststoffe  kg pro Einw.     0.000000\n",
              "52  2017  Liestal                     Oele  kg pro Einw.     0.010000\n",
              "53  2017  Liestal          Papier + Karton  kg pro Einw.    51.260000\n",
              "54  2017  Liestal          Uebrige Metalle  kg pro Einw.     0.000000\n",
              "55  2017  Liestal         Weissblech + Alu  kg pro Einw.     2.010000\n",
              "56  2023  Liestal                     Glas        Tonnen   293.800000\n",
              "57  2023  Liestal                 Gruengut        Tonnen   939.000000\n",
              "58  2023  Liestal  Hauskehricht + Sperrgut        Tonnen  2692.500000\n",
              "59  2023  Liestal              Kunststoffe        Tonnen     0.000000"
            ]
          },
          "execution_count": 3,
          "metadata": {},
          "output_type": "execute_result"
        }
      ],
      "source": [
        "garbage = pd.read_csv('garbage.csv', sep=\";\")\n",
        "garbage"
      ]
    },
    {
      "cell_type": "markdown",
      "metadata": {
        "id": "XrgG0hPXCxCc"
      },
      "source": [
        "Let us now plot the time series of \"Hauskehricht + Sperrgut\""
      ]
    },
    {
      "cell_type": "code",
      "execution_count": null,
      "metadata": {
        "colab": {
          "base_uri": "https://localhost:8080/",
          "height": 472
        },
        "id": "siA0K0xeCxCe",
        "outputId": "5deae631-a6a9-489b-f4a6-9c701c7ab97e"
      },
      "outputs": [
        {
          "data": {
            "image/png": "[encoded data removed]",
            "text/plain": [
              "<Figure size 640x480 with 1 Axes>"
            ]
          },
          "metadata": {},
          "output_type": "display_data"
        }
      ],
      "source": [
        "# Plot using pandas' built-in plot function\n",
        "household_rubbish = garbage[garbage['Kategorie']=='Hauskehricht + Sperrgut']\n",
        "household_rubbish.plot(x='Jahr', y='Wert', kind='line', marker='o', linestyle='-', color='b', title='Household rubbis in kg/inhabitants')\n",
        "\n",
        "# Customize the plot\n",
        "plt.xlabel('Year')\n",
        "plt.ylabel('kg/inhabitant')\n",
        "plt.grid(True)\n",
        "\n",
        "# Display the plot\n",
        "plt.show()\n"
      ]
    },
    {
      "cell_type": "markdown",
      "metadata": {
        "id": "6fjeqXZ_ofLP"
      },
      "source": [
        "### Exercise\n",
        "What about a plot containing all garbage types?"
      ]
    },
    {
      "cell_type": "code",
      "execution_count": null,
      "metadata": {
        "id": "KIUg_S_VpOSE"
      },
      "outputs": [],
      "source": []
    },
    {
      "cell_type": "markdown",
      "metadata": {
        "id": "NaWovhAjCxCf"
      },
      "source": [
        "## 2. Histograms\n",
        "For this we use the dataset *sleep.csv* from yesterday."
      ]
    },
    {
      "cell_type": "code",
      "execution_count": null,
      "metadata": {
        "colab": {
          "base_uri": "https://localhost:8080/"
        },
        "id": "_plyCKEDquEi",
        "outputId": "b206805e-5461-4bf3-a458-c05340552c51"
      },
      "outputs": [
        {
          "name": "stdout",
          "output_type": "stream",
          "text": [
            "   Unnamed: 0                 Species    BodyWt  BrainWt  NonDreaming  \\\n",
            "0           0         Africanelephant  6654.000   5712.0          NaN   \n",
            "1           1  Africangiantpouchedrat     1.000      6.6          6.3   \n",
            "2           2               ArcticFox     3.385     44.5          NaN   \n",
            "3           3    Arcticgroundsquirrel     0.920      5.7          NaN   \n",
            "4           4           Asianelephant  2547.000   4603.0          2.1   \n",
            "\n",
            "   Dreaming  TotalSleep  LifeSpan  Gestation  Predation  Exposure  Danger  \n",
            "0       NaN         3.3      38.6      645.0          3         5       3  \n",
            "1       2.0         8.3       4.5       42.0          3         1       3  \n",
            "2       NaN        12.5      14.0       60.0          1         1       1  \n",
            "3       NaN        16.5       NaN       25.0          5         2       3  \n",
            "4       1.8         3.9      69.0      624.0          3         5       4  \n"
          ]
        }
      ],
      "source": [
        "url = 'https://github.com/KGzB/CAS-Applied-Data-Science/blob/master/Module-1/merged.csv?raw=true'\n",
        "sleep = pd.read_csv(url, sep=',')\n",
        "print(sleep.head(5))"
      ]
    },
    {
      "cell_type": "markdown",
      "metadata": {
        "id": "brbTEb18CxCg"
      },
      "source": [
        "Plot a histogram for the lifespan of the mammals."
      ]
    },
    {
      "cell_type": "code",
      "execution_count": null,
      "metadata": {
        "colab": {
          "base_uri": "https://localhost:8080/",
          "height": 430
        },
        "id": "nH59hvMUCxCg",
        "outputId": "dba41b49-7ebc-49e3-aa32-b234bcfa7b8c"
      },
      "outputs": [
        {
          "data": {
            "image/png": "[encoded data removed]",
            "text/plain": [
              "<Figure size 640x480 with 1 Axes>"
            ]
          },
          "metadata": {},
          "output_type": "display_data"
        }
      ],
      "source": [
        "sleep['LifeSpan'].plot(kind=\"hist\",fill=True,histtype='step',label='life span', color = \"skyblue\")\n",
        "plt.show()"
      ]
    },
    {
      "cell_type": "markdown",
      "metadata": {
        "id": "S-re-fYsCxCh"
      },
      "source": [
        "### The effect of binning\n",
        "\n",
        "When data is binned (or sampled) the bin size effects the amount of counts in each bin. Counts fluctuate like a normal distribution for counts above about 20. So depending on your bin size, the same data may look differently.\n",
        "\n",
        "Hard binning (small bin size) may introduce pure statistical structures without any other meaning. This is then overfitting. Too big bin sizes may wipe out structures in the data (underfitting). If known, a bin size guided by the physical resolution of the sensor is close to optimal.\n",
        "\n",
        "Plot the same histograms with a different binning."
      ]
    },
    {
      "cell_type": "code",
      "execution_count": null,
      "metadata": {
        "colab": {
          "base_uri": "https://localhost:8080/",
          "height": 430
        },
        "id": "6AJWEKE9CxCi",
        "outputId": "a568faec-93af-49b9-b36b-5c9f854c7de9"
      },
      "outputs": [
        {
          "data": {
            "image/png": "[encoded data removed]",
            "text/plain": [
              "<Figure size 640x480 with 1 Axes>"
            ]
          },
          "metadata": {},
          "output_type": "display_data"
        }
      ],
      "source": [
        "sleep['LifeSpan'].plot(kind=\"hist\",fill=True,histtype='step',label='life span', color = \"skyblue\", bins=15)\n",
        "plt.show()"
      ]
    },
    {
      "cell_type": "markdown",
      "metadata": {
        "id": "L_pMyZGJu6Z3"
      },
      "source": [
        "### Exercise\n",
        "Plot a histogram for *Dreaming* and add *NonDreaming* to the same Histogram and add a legend.\n"
      ]
    },
    {
      "cell_type": "code",
      "execution_count": null,
      "metadata": {
        "id": "bHEOTzarvNzD"
      },
      "outputs": [],
      "source": []
    },
    {
      "cell_type": "markdown",
      "metadata": {
        "id": "1xGwosqbCxCi"
      },
      "source": [
        "Add label to the axes of the above plot"
      ]
    },
    {
      "cell_type": "code",
      "execution_count": null,
      "metadata": {
        "id": "ijcxqFlNCxCi"
      },
      "outputs": [],
      "source": []
    },
    {
      "cell_type": "markdown",
      "metadata": {
        "id": "xbMmP9hownCI"
      },
      "source": [
        "## 3. Pie Charts\n",
        "Pie charts show the percentage on a whole.\n",
        "Let us look at the percentage an asian elephant spents dreaming."
      ]
    },
    {
      "cell_type": "code",
      "execution_count": null,
      "metadata": {
        "colab": {
          "base_uri": "https://localhost:8080/",
          "height": 81
        },
        "id": "FlrBAvGyxf5o",
        "outputId": "0ed0681c-842a-493a-af51-77b8f1642329"
      },
      "outputs": [
        {
          "data": {
            "application/vnd.google.colaboratory.intrinsic+json": {
              "summary": "{\n  \"name\": \"sleep[sleep['Species'] == 'Asianelephant'][['NonDreaming', 'Dreaming']]\",\n  \"rows\": 1,\n  \"fields\": [\n    {\n      \"column\": \"NonDreaming\",\n      \"properties\": {\n        \"dtype\": \"number\",\n        \"std\": null,\n        \"min\": 2.1,\n        \"max\": 2.1,\n        \"num_unique_values\": 1,\n        \"samples\": [\n          2.1\n        ],\n        \"semantic_type\": \"\",\n        \"description\": \"\"\n      }\n    },\n    {\n      \"column\": \"Dreaming\",\n      \"properties\": {\n        \"dtype\": \"number\",\n        \"std\": null,\n        \"min\": 1.8,\n        \"max\": 1.8,\n        \"num_unique_values\": 1,\n        \"samples\": [\n          1.8\n        ],\n        \"semantic_type\": \"\",\n        \"description\": \"\"\n      }\n    }\n  ]\n}",
              "type": "dataframe"
            },
            "text/html": [
              "\n",
              "  <div id=\"df-2f4f4d7e-3611-4ae7-9fca-00aa878d6639\" class=\"colab-df-container\">\n",
              "    <div>\n",
              "<style scoped>\n",
              "    .dataframe tbody tr th:only-of-type {\n",
              "        vertical-align: middle;\n",
              "    }\n",
              "\n",
              "    .dataframe tbody tr th {\n",
              "        vertical-align: top;\n",
              "    }\n",
              "\n",
              "    .dataframe thead th {\n",
              "        text-align: right;\n",
              "    }\n",
              "</style>\n",
              "<table border=\"1\" class=\"dataframe\">\n",
              "  <thead>\n",
              "    <tr style=\"text-align: right;\">\n",
              "      <th></th>\n",
              "      <th>NonDreaming</th>\n",
              "      <th>Dreaming</th>\n",
              "    </tr>\n",
              "  </thead>\n",
              "  <tbody>\n",
              "    <tr>\n",
              "      <th>4</th>\n",
              "      <td>2.1</td>\n",
              "      <td>1.8</td>\n",
              "    </tr>\n",
              "  </tbody>\n",
              "</table>\n",
              "</div>\n",
              "    <div class=\"colab-df-buttons\">\n",
              "\n",
              "  <div class=\"colab-df-container\">\n",
              "    <button class=\"colab-df-convert\" onclick=\"convertToInteractive('df-2f4f4d7e-3611-4ae7-9fca-00aa878d6639')\"\n",
              "            title=\"Convert this dataframe to an interactive table.\"\n",
              "            style=\"display:none;\">\n",
              "\n",
              "  <svg xmlns=\"http://www.w3.org/2000/svg\" height=\"24px\" viewBox=\"0 -960 960 960\">\n",
              "    <path d=\"M120-120v-720h720v720H120Zm60-500h600v-160H180v160Zm220 220h160v-160H400v160Zm0 220h160v-160H400v160ZM180-400h160v-160H180v160Zm440 0h160v-160H620v160ZM180-180h160v-160H180v160Zm440 0h160v-160H620v160Z\"/>\n",
              "  </svg>\n",
              "    </button>\n",
              "\n",
              "  <style>\n",
              "    .colab-df-container {\n",
              "      display:flex;\n",
              "      gap: 12px;\n",
              "    }\n",
              "\n",
              "    .colab-df-convert {\n",
              "      background-color: #E8F0FE;\n",
              "      border: none;\n",
              "      border-radius: 50%;\n",
              "      cursor: pointer;\n",
              "      display: none;\n",
              "      fill: #1967D2;\n",
              "      height: 32px;\n",
              "      padding: 0 0 0 0;\n",
              "      width: 32px;\n",
              "    }\n",
              "\n",
              "    .colab-df-convert:hover {\n",
              "      background-color: #E2EBFA;\n",
              "      box-shadow: 0px 1px 2px rgba(60, 64, 67, 0.3), 0px 1px 3px 1px rgba(60, 64, 67, 0.15);\n",
              "      fill: #174EA6;\n",
              "    }\n",
              "\n",
              "    .colab-df-buttons div {\n",
              "      margin-bottom: 4px;\n",
              "    }\n",
              "\n",
              "    [theme=dark] .colab-df-convert {\n",
              "      background-color: #3B4455;\n",
              "      fill: #D2E3FC;\n",
              "    }\n",
              "\n",
              "    [theme=dark] .colab-df-convert:hover {\n",
              "      background-color: #434B5C;\n",
              "      box-shadow: 0px 1px 3px 1px rgba(0, 0, 0, 0.15);\n",
              "      filter: drop-shadow(0px 1px 2px rgba(0, 0, 0, 0.3));\n",
              "      fill: #FFFFFF;\n",
              "    }\n",
              "  </style>\n",
              "\n",
              "    <script>\n",
              "      const buttonEl =\n",
              "        document.querySelector('#df-2f4f4d7e-3611-4ae7-9fca-00aa878d6639 button.colab-df-convert');\n",
              "      buttonEl.style.display =\n",
              "        google.colab.kernel.accessAllowed ? 'block' : 'none';\n",
              "\n",
              "      async function convertToInteractive(key) {\n",
              "        const element = document.querySelector('#df-2f4f4d7e-3611-4ae7-9fca-00aa878d6639');\n",
              "        const dataTable =\n",
              "          await google.colab.kernel.invokeFunction('convertToInteractive',\n",
              "                                                    [key], {});\n",
              "        if (!dataTable) return;\n",
              "\n",
              "        const docLinkHtml = 'Like what you see? Visit the ' +\n",
              "          '<a target=\"_blank\" href=https://colab.research.google.com/notebooks/data_table.ipynb>data table notebook</a>'\n",
              "          + ' to learn more about interactive tables.';\n",
              "        element.innerHTML = '';\n",
              "        dataTable['output_type'] = 'display_data';\n",
              "        await google.colab.output.renderOutput(dataTable, element);\n",
              "        const docLink = document.createElement('div');\n",
              "        docLink.innerHTML = docLinkHtml;\n",
              "        element.appendChild(docLink);\n",
              "      }\n",
              "    </script>\n",
              "  </div>\n",
              "\n",
              "\n",
              "    </div>\n",
              "  </div>\n"
            ],
            "text/plain": [
              "   NonDreaming  Dreaming\n",
              "4          2.1       1.8"
            ]
          },
          "execution_count": 8,
          "metadata": {},
          "output_type": "execute_result"
        }
      ],
      "source": [
        "sleep[sleep['Species'] == 'Asianelephant'][['NonDreaming', 'Dreaming']]"
      ]
    },
    {
      "cell_type": "code",
      "execution_count": null,
      "metadata": {
        "colab": {
          "base_uri": "https://localhost:8080/",
          "height": 428
        },
        "id": "46tY0kMHxOJY",
        "outputId": "7e5c721d-9161-45f1-86ce-77d708fe08f8"
      },
      "outputs": [
        {
          "data": {
            "image/png": "[encoded data removed]",
            "text/plain": [
              "<Figure size 640x480 with 1 Axes>"
            ]
          },
          "metadata": {},
          "output_type": "display_data"
        }
      ],
      "source": [
        "plt.pie(sleep[sleep['Species'] == 'Asianelephant'][['NonDreaming', 'Dreaming']].values.flatten(), labels=['NonDreaming', 'Dreaming'],\n",
        "        autopct='%1.1f%%', colors = ['gold', 'lightcoral'])\n",
        "plt.title('Dreaming / NonDreaming on asian elephant')\n",
        "plt.show()"
      ]
    },
    {
      "cell_type": "markdown",
      "metadata": {
        "id": "lwXDniXWz1Ul"
      },
      "source": [
        "### Exercise\n",
        "Plot pie charts of three species next to each other"
      ]
    },
    {
      "cell_type": "code",
      "execution_count": null,
      "metadata": {
        "id": "kiA15gd50w4S"
      },
      "outputs": [],
      "source": []
    },
    {
      "cell_type": "markdown",
      "metadata": {
        "id": "BWtEvxkUCxCj"
      },
      "source": [
        "## 4. Scatter plots\n",
        "\n",
        "Scatter plots show how the data is distributed in two dimensions. They are good for finding (anti) correlations between two variables. Let us check whether there is a correlation between total sleep and the time spent dreaming."
      ]
    },
    {
      "cell_type": "code",
      "execution_count": null,
      "metadata": {
        "colab": {
          "base_uri": "https://localhost:8080/",
          "height": 449
        },
        "id": "iyuRSeAHCxCj",
        "outputId": "97b4d5b0-9c5e-49e2-a576-bbff9e0f920f"
      },
      "outputs": [
        {
          "data": {
            "image/png": "[encoded data removed]",
            "text/plain": [
              "<Figure size 640x480 with 1 Axes>"
            ]
          },
          "metadata": {},
          "output_type": "display_data"
        }
      ],
      "source": [
        "sleep.plot(x='TotalSleep',y='Dreaming',kind=\"scatter\",c='c')\n",
        "plt.show()"
      ]
    },
    {
      "cell_type": "markdown",
      "metadata": {
        "id": "yAwH5l5x2n0H"
      },
      "source": [
        "### Exercise\n",
        "Can you find a correlation between sleep and dreaming when you plot a different scatterplot for each level of exposure?"
      ]
    },
    {
      "cell_type": "code",
      "execution_count": null,
      "metadata": {
        "id": "PNi5kPTt23ou"
      },
      "outputs": [],
      "source": []
    },
    {
      "cell_type": "markdown",
      "metadata": {
        "id": "7RqrcA9GCxCk"
      },
      "source": [
        "There are several other tools too. See https://pandas.pydata.org/pandas-docs/stable/visualization.html"
      ]
    },
    {
      "cell_type": "markdown",
      "metadata": {
        "id": "PjMuygbwCxCl"
      },
      "source": [
        "## 4. Box plots"
      ]
    },
    {
      "cell_type": "markdown",
      "metadata": {
        "id": "ZXS2jhOmCxCl"
      },
      "source": [
        "A boxplot is a graphical representation that shows the distribution of a dataset by displaying its minimum, first quartile, median, third quartile, and maximum, along with any potential outliers. We will look at them in more detail in Module 2"
      ]
    },
    {
      "cell_type": "code",
      "execution_count": null,
      "metadata": {
        "colab": {
          "base_uri": "https://localhost:8080/",
          "height": 430
        },
        "id": "TqjQAmydCxCl",
        "outputId": "5bf9b0db-c4d5-46bf-99e7-28a686819097"
      },
      "outputs": [
        {
          "data": {
            "image/png": "[encoded data removed]",
            "text/plain": [
              "<Figure size 640x480 with 1 Axes>"
            ]
          },
          "metadata": {},
          "output_type": "display_data"
        }
      ],
      "source": [
        "sleep['TotalSleep'].plot.box()\n",
        "plt.ylabel(\"Total sleep in hours\")\n",
        "plt.show()"
      ]
    },
    {
      "cell_type": "markdown",
      "metadata": {
        "id": "aVrsPXE4CxCl"
      },
      "source": [
        "## 5. Plotting with error bars"
      ]
    },
    {
      "cell_type": "markdown",
      "metadata": {
        "id": "j1d_m7buCxCm"
      },
      "source": [
        "There is no science without error bars, or better, uncertainties. The meaning of uncertainties is discussed in module 2. Here we only show by example  how to plot uncertainties."
      ]
    },
    {
      "cell_type": "markdown",
      "metadata": {
        "id": "2S1vhQHcCxCm"
      },
      "source": [
        "Plotting with error bars is supported in DataFrame.plot() and Series.plot().\n",
        "\n",
        "Horizontal and vertical error bars can be supplied to the xerr and yerr keyword arguments to plot(). The error values can be specified using a variety of formats:\n",
        "\n",
        "- As a DataFrame or dict of errors with column names matching the columns attribute of the plotting DataFrame or matching the name attribute of the Series.\n",
        "- As a str indicating which of the columns of plotting DataFrame contain the error values.\n",
        "- As raw values (list, tuple, or np.ndarray). Must be the same length as the plotting DataFrame/Series.\n",
        "\n",
        "Asymmetrical error bars are also supported, however raw error values must be provided in this case. For a M length Series, a Mx2 array should be provided indicating lower and upper (or left and right) errors. For a MxN DataFrame, asymmetrical errors should be in a Mx2xN array.\n",
        "\n",
        "Here is an example using an error dataframe (symmetric uncertainties)."
      ]
    },
    {
      "cell_type": "code",
      "execution_count": null,
      "metadata": {
        "colab": {
          "base_uri": "https://localhost:8080/",
          "height": 430
        },
        "id": "4nGenVxcCxCm",
        "outputId": "4cb9191c-7b1e-4468-a394-f71d4bf94eeb"
      },
      "outputs": [
        {
          "data": {
            "image/png": "[encoded data removed]",
            "text/plain": [
              "<Figure size 640x480 with 1 Axes>"
            ]
          },
          "metadata": {},
          "output_type": "display_data"
        }
      ],
      "source": [
        "my_df   = pd.DataFrame([6,15,4,20,16,13]) # Some random data\n",
        "my_df_e = (my_df)**0.5 # The error dataframe\n",
        "my_df.plot(yerr=my_df_e)\n",
        "plt.show()"
      ]
    },
    {
      "cell_type": "markdown",
      "metadata": {
        "id": "J1jm7R8FCxCm"
      },
      "source": [
        "## 6. Formatting plots"
      ]
    },
    {
      "cell_type": "markdown",
      "metadata": {
        "id": "fT0rAG1ICxCn"
      },
      "source": [
        "Plots can easily be formatted with keywords. One can adjust colors, types of shading, lines, axes, legends, titles, etc. Some formatting has been exemplified above. More examples are in the documentation. https://pandas.pydata.org/pandas-docs/stable/visualization.html\n",
        "\n",
        "With the matplotlib module you are even more flexible. See https://matplotlib.org/gallery/index.html for inspirations."
      ]
    },
    {
      "cell_type": "markdown",
      "metadata": {
        "id": "19rFbg4TCxCn"
      },
      "source": [
        "## 7. Summary\n",
        "\n",
        "- Do you remember three important plot types?\n",
        "- What can the binning of a histogram do to the interpretation of it?\n",
        "- Can you mention three important points to include in plots and their figure legends?\n"
      ]
    },
    {
      "cell_type": "markdown",
      "metadata": {
        "id": "uWUIH_zSCxCn"
      },
      "source": [
        "## 8. Plotting Geodata\n",
        "\n",
        "Often is very nice to visualise data on geographical maps. Fortunately people have written packages helpin us with that. This is an example how the geopandas package can be used."
      ]
    },
    {
      "cell_type": "markdown",
      "metadata": {
        "id": "pGUGT3OTQCZe"
      },
      "source": [
        "\n",
        "First we need the so called shape files. They are provided by [swisstopo](https://www.swisstopo.admin.ch/en/geodata/landscape/boundaries3d.html/). For convenience there is a version on the CAS github repositoy.\n",
        "\n",
        "On Linux (colab is running linux) we get and unpack the files like this:\n",
        "\n"
      ]
    },
    {
      "cell_type": "code",
      "execution_count": null,
      "metadata": {
        "colab": {
          "base_uri": "https://localhost:8080/"
        },
        "id": "C7_4VwEdIW-x",
        "outputId": "b143cf3e-c251-4bc3-bf60-164752eb03a5"
      },
      "outputs": [
        {
          "name": "stdout",
          "output_type": "stream",
          "text": [
            "--2024-08-18 15:16:00--  https://github.com/sigvehaug/CAS-Applied-Data-Science/raw/master/Module-1/CHE_adm.zip\n",
            "Resolving github.com (github.com)... 140.82.113.4\n",
            "Connecting to github.com (github.com)|140.82.113.4|:443... connected.\n",
            "HTTP request sent, awaiting response... 302 Found\n",
            "Location: https://raw.githubusercontent.com/sigvehaug/CAS-Applied-Data-Science/master/Module-1/CHE_adm.zip [following]\n",
            "--2024-08-18 15:16:00--  https://raw.githubusercontent.com/sigvehaug/CAS-Applied-Data-Science/master/Module-1/CHE_adm.zip\n",
            "Resolving raw.githubusercontent.com (raw.githubusercontent.com)... 185.199.108.133, 185.199.109.133, 185.199.110.133, ...\n",
            "Connecting to raw.githubusercontent.com (raw.githubusercontent.com)|185.199.108.133|:443... connected.\n",
            "HTTP request sent, awaiting response... 200 OK\n",
            "Length: 3559904 (3.4M) [application/zip]\n",
            "Saving to: ‘CHE_adm.zip’\n",
            "\n",
            "CHE_adm.zip         100%[===================>]   3.39M  --.-KB/s    in 0.08s   \n",
            "\n",
            "2024-08-18 15:16:01 (42.1 MB/s) - ‘CHE_adm.zip’ saved [3559904/3559904]\n",
            "\n",
            "Archive:  CHE_adm.zip\n",
            " extracting: data/CHE_adm0.cpg       \n",
            "  inflating: data/CHE_adm0.csv       \n",
            "  inflating: data/CHE_adm0.dbf       \n",
            "  inflating: data/CHE_adm0.prj       \n",
            "  inflating: data/CHE_adm0.shp       \n",
            "  inflating: data/CHE_adm0.shx       \n",
            " extracting: data/CHE_adm1.cpg       \n",
            "  inflating: data/CHE_adm1.csv       \n",
            "  inflating: data/CHE_adm1.dbf       \n",
            "  inflating: data/CHE_adm1.prj       \n",
            "  inflating: data/CHE_adm1.shp       \n",
            "  inflating: data/CHE_adm1.shx       \n",
            " extracting: data/CHE_adm2.cpg       \n",
            "  inflating: data/CHE_adm2.csv       \n",
            "  inflating: data/CHE_adm2.dbf       \n",
            "  inflating: data/CHE_adm2.prj       \n",
            "  inflating: data/CHE_adm2.shp       \n",
            "  inflating: data/CHE_adm2.shx       \n",
            " extracting: data/CHE_adm3.cpg       \n",
            "  inflating: data/CHE_adm3.csv       \n",
            "  inflating: data/CHE_adm3.dbf       \n",
            "  inflating: data/CHE_adm3.prj       \n",
            "  inflating: data/CHE_adm3.shp       \n",
            "  inflating: data/CHE_adm3.shx       \n",
            "  inflating: data/license.txt        \n"
          ]
        }
      ],
      "source": [
        "! wget https://github.com/sigvehaug/CAS-Applied-Data-Science/raw/master/Module-1/CHE_adm.zip\n",
        "! mkdir -p data\n",
        "! unzip CHE_adm.zip -d data"
      ]
    },
    {
      "cell_type": "code",
      "execution_count": null,
      "metadata": {
        "id": "9WjhNP99CxCn"
      },
      "outputs": [],
      "source": [
        "import pandas as pd\n",
        "import numpy as np\n",
        "import geopandas as gpd\n",
        "import matplotlib.pyplot as plt\n",
        "import datetime\n",
        "import os\n"
      ]
    },
    {
      "cell_type": "markdown",
      "metadata": {
        "id": "B4ENE8h1Yjoq"
      },
      "source": [
        "Now we merge some numbers per canton (covid cases at some point in the past) with the shape files."
      ]
    },
    {
      "cell_type": "code",
      "execution_count": null,
      "metadata": {
        "colab": {
          "base_uri": "https://localhost:8080/",
          "height": 757
        },
        "id": "nLqaeUqL8iC9",
        "outputId": "faef1e03-ba0a-430f-ae61-9d52e623fe88"
      },
      "outputs": [
        {
          "data": {
            "image/png": "[encoded data removed]",
            "text/plain": [
              "<Figure size 1000x1000 with 2 Axes>"
            ]
          },
          "metadata": {},
          "output_type": "display_data"
        }
      ],
      "source": [
        "shape_file = 'data/CHE_adm1.shp'\n",
        "switzerland = gpd.read_file(shape_file)\n",
        "population_data = {\n",
        "    'canton': ['Aargau', 'Appenzell Ausserrhoden', 'Appenzell Innerrhoden', 'Basel-Landschaft', 'Basel-Stadt',\n",
        "               'Bern', 'Fribourg', 'Genève', 'Glarus', 'Graubünden', 'Jura', 'Lucerne',\n",
        "               'Neuchâtel', 'Nidwalden', 'Obwalden', 'Schwyz', 'Schaffhausen', 'Solothurn',\n",
        "               'Sankt Gallen', 'Thurgau', 'Ticino', 'Uri', 'Valais', 'Vaud', 'Zug', 'Zürich'],\n",
        "    'population': [695.3, 55.7, 16.3, 291.3, 196.6, 1046.3, 325.2, 509.1, 40.7,\n",
        "                   198.9, 73.8, 416.3, 177.3, 43.9, 38.4, 83.6, 162.6, 278.3,\n",
        "                   516.7, 282.9, 353.3, 37, 349.2, 815.6, 130.2, 1553.6]\n",
        "}\n",
        "\n",
        "population_df = pd.DataFrame(population_data)\n",
        "\n",
        "# Filter for Switzerland and merge with population data\n",
        "switzerland = switzerland[switzerland['NAME_1'].isin(population_df['canton'])]\n",
        "switzerland = switzerland.merge(population_df, left_on='NAME_1', right_on='canton')\n",
        "\n",
        "# Plotting\n",
        "fig, ax = plt.subplots(1, 1, figsize=(10, 10))\n",
        "switzerland.boundary.plot(ax=ax, linewidth=1)  # Plot boundaries\n",
        "switzerland.plot(column='population', ax=ax, legend=True,\n",
        "                 legend_kwds={'label': \"Population by Canton\",\n",
        "                              'orientation': \"horizontal\"},\n",
        "                 cmap='OrRd', edgecolor='black')\n",
        "\n",
        "# Title and show plot\n",
        "plt.title('Population by Canton in Switzerland')\n",
        "plt.show()"
      ]
    },
    {
      "cell_type": "markdown",
      "metadata": {
        "id": "iug2-DAtB661"
      },
      "source": [
        "### Excercise\n",
        "Draw another geoplot of Switzerland."
      ]
    },
    {
      "cell_type": "code",
      "execution_count": null,
      "metadata": {
        "id": "MPabO4eKDlvA"
      },
      "outputs": [],
      "source": []
    },
    {
      "cell_type": "markdown",
      "metadata": {
        "id": "21Q6_1eUCxCo"
      },
      "source": [
        "# End of the prepared data visualisation examples.\n",
        "\n",
        "Feel free to play on your own. You should make some good plots of your dataset for the project report."
      ]
    }
  ],
  "metadata": {
    "colab": {
      "provenance": [],
      "toc_visible": true
    },
    "kernelspec": {
      "display_name": "Python 3",
      "language": "python",
      "name": "python3"
    },
    "language_info": {
      "codemirror_mode": {
        "name": "ipython",
        "version": 3
      },
      "file_extension": ".py",
      "mimetype": "text/x-python",
      "name": "python",
      "nbconvert_exporter": "python",
      "pygments_lexer": "ipython3",
      "version": "3.7.8"
    }
  },
  "nbformat": 4,
  "nbformat_minor": 0
}